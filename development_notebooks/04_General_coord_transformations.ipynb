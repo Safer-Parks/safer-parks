{
 "cells": [
  {
   "cell_type": "markdown",
   "id": "b74c9aba",
   "metadata": {},
   "source": [
    "# General coordinate transformation scripts\n",
    "\n",
    "For changing projections/coordinate reference systems for display on dashboard"
   ]
  },
  {
   "cell_type": "code",
   "execution_count": 1,
   "id": "599fd984",
   "metadata": {},
   "outputs": [
    {
     "name": "stdout",
     "output_type": "stream",
     "text": [
      "Input directory: ../data/raw/testing_coord_transformation\n",
      "Output directory: ../data/processed/testing_coord_transformations\n"
     ]
    }
   ],
   "source": [
    "import geopandas as gpd\n",
    "import os\n",
    "import pandas as pd\n",
    "from pathlib import Path\n",
    "\n",
    "# Set up paths\n",
    "data_dir = Path('../data/raw/testing_coord_transformation')\n",
    "output_dir = Path('../data/processed/testing_coord_transformations')\n",
    "output_dir.mkdir(parents=True, exist_ok=True)\n",
    "\n",
    "print(f\"Input directory: {data_dir}\")\n",
    "print(f\"Output directory: {output_dir}\")"
   ]
  },
  {
   "cell_type": "code",
   "execution_count": 2,
   "id": "d05543c9",
   "metadata": {},
   "outputs": [],
   "source": [
    "# Lists to track files\n",
    "files_checked = []\n",
    "files_modified = []\n",
    "files_unchanged = []"
   ]
  },
  {
   "cell_type": "markdown",
   "id": "0e455f83",
   "metadata": {},
   "source": [
    "Check what files are present in the directory to ensure correct files are being processed"
   ]
  },
  {
   "cell_type": "code",
   "execution_count": 3,
   "id": "33213dbb",
   "metadata": {},
   "outputs": [
    {
     "name": "stdout",
     "output_type": "stream",
     "text": [
      "Found 2 GeoJSON files\n"
     ]
    }
   ],
   "source": [
    "# Find all geojson files in the data directory\n",
    "geojson_files = list(data_dir.glob('*.geojson'))\n",
    "\n",
    "print(f\"Found {len(geojson_files)} GeoJSON files\")\n"
   ]
  },
  {
   "cell_type": "markdown",
   "id": "d34d1811",
   "metadata": {},
   "source": [
    "Check output directory before going ahead, just to see that you're not overwriting files uninentionally"
   ]
  },
  {
   "cell_type": "code",
   "execution_count": 5,
   "id": "f504bd23",
   "metadata": {},
   "outputs": [
    {
     "name": "stdout",
     "output_type": "stream",
     "text": [
      "Found 0 GeoJSON files in output dir\n",
      "[]\n"
     ]
    }
   ],
   "source": [
    "# find all geojson in output directory\n",
    "\n",
    "print(f\"Found {len(list(output_dir.glob('*.geojson')))} GeoJSON files in output dir\")\n",
    "\n",
    "print(list(output_dir.glob('*.geojson')))"
   ]
  },
  {
   "cell_type": "markdown",
   "id": "1fcb42e1",
   "metadata": {},
   "source": [
    "If you're happy with the output of the above cells, can run this:"
   ]
  },
  {
   "cell_type": "code",
   "execution_count": 7,
   "id": "e020a3c5",
   "metadata": {},
   "outputs": [
    {
     "name": "stdout",
     "output_type": "stream",
     "text": [
      "\n",
      "Processing: OSM_highway_crossings-stops-others.geojson\n",
      "Current CRS: EPSG:27700\n",
      "Converted from 27700 to EPSG:4326\n",
      "\n",
      "Processing: OSM_highway_bus_stop.geojson\n",
      "Current CRS: EPSG:27700\n",
      "Converted from 27700 to EPSG:4326\n",
      "Done\n"
     ]
    }
   ],
   "source": [
    "for file_path in geojson_files:\n",
    "    try:\n",
    "        # Read the GeoJSON file\n",
    "        gdf = gpd.read_file(file_path)\n",
    "        files_checked.append(file_path.name)\n",
    "        \n",
    "        # Get the current CRS\n",
    "        current_crs = gdf.crs\n",
    "        print(f\"\\nProcessing: {file_path.name}\")\n",
    "        print(f\"Current CRS: {current_crs}\")\n",
    "        \n",
    "        # Check if CRS is not WGS84 (EPSG:4326)\n",
    "        if current_crs is None:\n",
    "            print(f\"Warning: No CRS defined for {file_path.name}\")\n",
    "            # Save as unchanged but with warning\n",
    "            output_file = output_dir / f\"{file_path.stem}_nocrs{file_path.suffix}\"\n",
    "            gdf.to_file(output_file, driver='GeoJSON')\n",
    "            files_unchanged.append(file_path.name)\n",
    "            \n",
    "        elif current_crs.to_epsg() != 4326:\n",
    "            # Convert to WGS84\n",
    "            gdf_transformed = gdf.to_crs('EPSG:4326')\n",
    "            output_file = output_dir / f\"{file_path.stem}_newcrs{file_path.suffix}\"\n",
    "            gdf_transformed.to_file(output_file, driver='GeoJSON')\n",
    "            files_modified.append(file_path.name)\n",
    "            print(f\"Converted from {current_crs.to_epsg()} to EPSG:4326\")\n",
    "            \n",
    "        else:\n",
    "            # Already in WGS84, copy unchanged\n",
    "            output_file = output_dir / f\"{file_path.stem}_unmodifiedcrs{file_path.suffix}\"\n",
    "            gdf.to_file(output_file, driver='GeoJSON')\n",
    "            files_unchanged.append(file_path.name)\n",
    "            print(\"Already in WGS84 (EPSG:4326)\")\n",
    "            \n",
    "    except Exception as e:\n",
    "        print(f\"Error processing {file_path.name}: {e}\")\n",
    "        files_checked.append(f\"{file_path.name} (ERROR)\")\n",
    "\n",
    "print(\"Done\")\n"
   ]
  },
  {
   "cell_type": "code",
   "execution_count": 8,
   "id": "f31b9648",
   "metadata": {},
   "outputs": [
    {
     "name": "stdout",
     "output_type": "stream",
     "text": [
      "\n",
      "==================================================\n",
      "PROCESSING SUMMARY\n",
      "==================================================\n",
      "Total files checked: 4\n",
      "Files modified (converted to WGS84): 4\n",
      "Files unchanged (already WGS84 or no CRS): 0\n",
      "\n",
      "Files checked: ['OSM_highway_crossings-stops-others.geojson', 'OSM_highway_bus_stop.geojson', 'OSM_highway_crossings-stops-others.geojson', 'OSM_highway_bus_stop.geojson']\n",
      "\n",
      "Files modified: ['OSM_highway_crossings-stops-others.geojson', 'OSM_highway_bus_stop.geojson', 'OSM_highway_crossings-stops-others.geojson', 'OSM_highway_bus_stop.geojson']\n",
      "\n",
      "Files unchanged: []\n"
     ]
    }
   ],
   "source": [
    "# Print summary\n",
    "print(\"\\n\" + \"=\"*50)\n",
    "print(\"PROCESSING SUMMARY\")\n",
    "print(\"=\"*50)\n",
    "print(f\"Total files checked: {len(files_checked)}\")\n",
    "print(f\"Files modified (converted to WGS84): {len(files_modified)}\")\n",
    "print(f\"Files unchanged (already WGS84 or no CRS): {len(files_unchanged)}\")\n",
    "\n",
    "print(f\"\\nFiles checked: {files_checked}\")\n",
    "print(f\"\\nFiles modified: {files_modified}\")\n",
    "print(f\"\\nFiles unchanged: {files_unchanged}\")\n"
   ]
  },
  {
   "cell_type": "code",
   "execution_count": null,
   "id": "4c64a7d6",
   "metadata": {},
   "outputs": [],
   "source": [
    "# If desired, can create a summary dataframe\n",
    "# summary_data = {\n",
    "#     'filename': files_checked,\n",
    "#     'status': (['modified'] * len(files_modified) + \n",
    "#               ['unchanged'] * len(files_unchanged) + \n",
    "#               ['error'] * (len(files_checked) - len(files_modified) - len(files_unchanged)))\n",
    "# }\n",
    "\n",
    "# summary_df = pd.DataFrame(summary_data)\n",
    "# summary_file = output_dir / 'coordinate_transformation_summary.csv'\n",
    "# summary_df.to_csv(summary_file, index=False)\n",
    "# print(f\"\\nSummary saved to: {summary_file}\")"
   ]
  }
 ],
 "metadata": {
  "kernelspec": {
   "display_name": "safer-parks-env-v1",
   "language": "python",
   "name": "python3"
  },
  "language_info": {
   "codemirror_mode": {
    "name": "ipython",
    "version": 3
   },
   "file_extension": ".py",
   "mimetype": "text/x-python",
   "name": "python",
   "nbconvert_exporter": "python",
   "pygments_lexer": "ipython3",
   "version": "3.13.7"
  }
 },
 "nbformat": 4,
 "nbformat_minor": 5
}
